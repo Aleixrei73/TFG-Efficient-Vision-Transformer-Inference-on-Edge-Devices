{
 "cells": [
  {
   "cell_type": "code",
   "execution_count": 61,
   "id": "765dc3c5",
   "metadata": {},
   "outputs": [],
   "source": [
    "import pandas as pd\n",
    "import os"
   ]
  },
  {
   "cell_type": "code",
   "execution_count": 62,
   "id": "d56a2927",
   "metadata": {},
   "outputs": [],
   "source": [
    "paths = []\n",
    "\n",
    "for dirpath, dirnames, filenames in os.walk('summary'):\n",
    "    for filename in [f for f in filenames if f == \"metrics.txt\"]:\n",
    "        paths.append(os.path.join(dirpath,filename))"
   ]
  },
  {
   "cell_type": "code",
   "execution_count": 63,
   "id": "91769ad4",
   "metadata": {},
   "outputs": [
    {
     "name": "stdout",
     "output_type": "stream",
     "text": [
      "ViT-Combine-Pruning0.6-Merging20\n",
      "['Mean total time over 2000 executions: 5.931847929954529 +- 0.6089529621425271 ms/batch \\n', 'Mean memory time over 2000 executions: 0.2311021089553833 +- 0.06858250474807397 ms/batch \\n', 'Mean inference time over 2000 executions: 5.7007458209991455 +- 0.5958388572199025 ms/batch \\n', 'Mean memory over 2000 executions: 217.7734375 +- 0.6089529621425271 MB\\n', 'Accuracy: 92.02%']\n"
     ]
    }
   ],
   "source": [
    "print(paths[19].split('/')[-2])\n",
    "\n",
    "with open(paths[19], 'r') as f:\n",
    "    print(f.readlines())"
   ]
  },
  {
   "cell_type": "code",
   "execution_count": 64,
   "id": "00a1dd2e",
   "metadata": {},
   "outputs": [],
   "source": [
    "data = []\n",
    "\n",
    "for path in paths:\n",
    "    name = path.split('/')[-2]\n",
    "    metrics = [0]*5\n",
    "    with open(path, 'r') as f:\n",
    "        for i in range(4):\n",
    "            line = f.readline()\n",
    "            line = line.split(':')\n",
    "            line = line[1]\n",
    "            line = line.split(' ')\n",
    "            metrics[i] = float(line[1])\n",
    "        \n",
    "        line = f.readline()\n",
    "        line = line.split(':')\n",
    "        line = line[1]\n",
    "        metrics[4] = float(line[1:-2])\n",
    "        \n",
    "    data.append([name, metrics[4], metrics[3], metrics[1], metrics[2], metrics[0]])\n",
    "    "
   ]
  },
  {
   "cell_type": "code",
   "execution_count": 65,
   "id": "6a3dae84",
   "metadata": {},
   "outputs": [
    {
     "data": {
      "text/html": [
       "<div>\n",
       "<style scoped>\n",
       "    .dataframe tbody tr th:only-of-type {\n",
       "        vertical-align: middle;\n",
       "    }\n",
       "\n",
       "    .dataframe tbody tr th {\n",
       "        vertical-align: top;\n",
       "    }\n",
       "\n",
       "    .dataframe thead th {\n",
       "        text-align: right;\n",
       "    }\n",
       "</style>\n",
       "<table border=\"1\" class=\"dataframe\">\n",
       "  <thead>\n",
       "    <tr style=\"text-align: right;\">\n",
       "      <th></th>\n",
       "      <th>Accuracy</th>\n",
       "      <th>Max Mem use</th>\n",
       "      <th>Mem Latency</th>\n",
       "      <th>Inference Latency</th>\n",
       "      <th>Total Latency</th>\n",
       "    </tr>\n",
       "    <tr>\n",
       "      <th>ViT Name</th>\n",
       "      <th></th>\n",
       "      <th></th>\n",
       "      <th></th>\n",
       "      <th></th>\n",
       "      <th></th>\n",
       "    </tr>\n",
       "  </thead>\n",
       "  <tbody>\n",
       "    <tr>\n",
       "      <th>ViT-Combine-Merging10-Quantized</th>\n",
       "      <td>94.7</td>\n",
       "      <td>183.556152</td>\n",
       "      <td>0.207412</td>\n",
       "      <td>5.681480</td>\n",
       "      <td>5.888892</td>\n",
       "    </tr>\n",
       "    <tr>\n",
       "      <th>ViT-Combine-Merging15-Quantized</th>\n",
       "      <td>94.3</td>\n",
       "      <td>183.343262</td>\n",
       "      <td>0.206288</td>\n",
       "      <td>5.730487</td>\n",
       "      <td>5.936775</td>\n",
       "    </tr>\n",
       "    <tr>\n",
       "      <th>ViT-Combine-Merging20-Quantized</th>\n",
       "      <td>92.4</td>\n",
       "      <td>183.299316</td>\n",
       "      <td>0.203310</td>\n",
       "      <td>5.713740</td>\n",
       "      <td>5.917050</td>\n",
       "    </tr>\n",
       "    <tr>\n",
       "      <th>ViT-Combine-Merging25-Quantized</th>\n",
       "      <td>90.0</td>\n",
       "      <td>183.255371</td>\n",
       "      <td>0.201542</td>\n",
       "      <td>5.659542</td>\n",
       "      <td>5.861084</td>\n",
       "    </tr>\n",
       "    <tr>\n",
       "      <th>ViT-Combine-Merging30-Quantized</th>\n",
       "      <td>88.1</td>\n",
       "      <td>183.023438</td>\n",
       "      <td>0.205965</td>\n",
       "      <td>5.519878</td>\n",
       "      <td>5.725843</td>\n",
       "    </tr>\n",
       "  </tbody>\n",
       "</table>\n",
       "</div>"
      ],
      "text/plain": [
       "                                 Accuracy  Max Mem use  Mem Latency  \\\n",
       "ViT Name                                                              \n",
       "ViT-Combine-Merging10-Quantized      94.7   183.556152     0.207412   \n",
       "ViT-Combine-Merging15-Quantized      94.3   183.343262     0.206288   \n",
       "ViT-Combine-Merging20-Quantized      92.4   183.299316     0.203310   \n",
       "ViT-Combine-Merging25-Quantized      90.0   183.255371     0.201542   \n",
       "ViT-Combine-Merging30-Quantized      88.1   183.023438     0.205965   \n",
       "\n",
       "                                 Inference Latency  Total Latency  \n",
       "ViT Name                                                           \n",
       "ViT-Combine-Merging10-Quantized           5.681480       5.888892  \n",
       "ViT-Combine-Merging15-Quantized           5.730487       5.936775  \n",
       "ViT-Combine-Merging20-Quantized           5.713740       5.917050  \n",
       "ViT-Combine-Merging25-Quantized           5.659542       5.861084  \n",
       "ViT-Combine-Merging30-Quantized           5.519878       5.725843  "
      ]
     },
     "execution_count": 65,
     "metadata": {},
     "output_type": "execute_result"
    }
   ],
   "source": [
    "df = pd.DataFrame(data, columns=[\"ViT Name\", \"Accuracy\", \"Max Mem use\", \"Mem Latency\", \"Inference Latency\", \"Total Latency\"])\n",
    "df = df.sort_values(by='ViT Name', axis=0)\n",
    "df = df.set_index('ViT Name')\n",
    "df.head()"
   ]
  },
  {
   "cell_type": "code",
   "execution_count": 66,
   "id": "9bc8b6ce",
   "metadata": {},
   "outputs": [],
   "source": [
    "df.to_csv(\"summary/summarized_data.csv\")"
   ]
  }
 ],
 "metadata": {
  "kernelspec": {
   "display_name": "Python 3",
   "language": "python",
   "name": "python3"
  },
  "language_info": {
   "codemirror_mode": {
    "name": "ipython",
    "version": 3
   },
   "file_extension": ".py",
   "mimetype": "text/x-python",
   "name": "python",
   "nbconvert_exporter": "python",
   "pygments_lexer": "ipython3",
   "version": "3.11.11"
  }
 },
 "nbformat": 4,
 "nbformat_minor": 5
}
