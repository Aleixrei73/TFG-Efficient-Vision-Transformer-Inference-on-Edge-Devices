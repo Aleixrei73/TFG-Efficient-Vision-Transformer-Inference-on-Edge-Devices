{
 "cells": [
  {
   "cell_type": "code",
   "execution_count": 1,
   "metadata": {},
   "outputs": [
    {
     "name": "stderr",
     "output_type": "stream",
     "text": [
      "c:\\Users\\aleix\\AppData\\Local\\Programs\\Python\\Python311\\Lib\\site-packages\\tqdm\\auto.py:21: TqdmWarning: IProgress not found. Please update jupyter and ipywidgets. See https://ipywidgets.readthedocs.io/en/stable/user_install.html\n",
      "  from .autonotebook import tqdm as notebook_tqdm\n"
     ]
    },
    {
     "data": {
      "text/plain": [
       "'cuda'"
      ]
     },
     "execution_count": 1,
     "metadata": {},
     "output_type": "execute_result"
    }
   ],
   "source": [
    "import torch\n",
    "import torch.nn as nn\n",
    "import torch.nn.functional as F\n",
    "import torch.optim as optim\n",
    "import torchvision\n",
    "from torchvision import (models, transforms)\n",
    "import os\n",
    "import utils\n",
    "from pathlib import Path\n",
    "import trainer\n",
    "from torchinfo import summary\n",
    "import time\n",
    "\n",
    "device = 'cuda' if torch.cuda.is_available() else 'cpu'\n",
    "device"
   ]
  },
  {
   "cell_type": "code",
   "execution_count": 2,
   "metadata": {},
   "outputs": [
    {
     "name": "stderr",
     "output_type": "stream",
     "text": [
      "c:\\Users\\aleix\\OneDrive\\Escritorio\\TFG\\utils.py:130: FutureWarning: You are using `torch.load` with `weights_only=False` (the current default value), which uses the default pickle module implicitly. It is possible to construct malicious pickle data which will execute arbitrary code during unpickling (See https://github.com/pytorch/pytorch/blob/main/SECURITY.md#untrusted-models for more details). In a future release, the default value for `weights_only` will be flipped to `True`. This limits the functions that could be executed during unpickling. Arbitrary objects will no longer be allowed to be loaded via this mode unless they are explicitly allowlisted by the user via `torch.serialization.add_safe_globals`. We recommend you start setting `weights_only=True` for any use case where you don't have full control of the loaded file. Please open an issue on GitHub for any issues related to this experimental feature.\n",
      "  vit.load_state_dict(torch.load(model_path))\n"
     ]
    }
   ],
   "source": [
    "pretrained_vit_weights = torchvision.models.ViT_B_16_Weights.DEFAULT\n",
    "vit_default = utils.load_default_model()\n",
    "pretrained_vit_transforms = pretrained_vit_weights.transforms()\n",
    "\n",
    "#We freeze all layers since we do not really want to train it again\n",
    "for parameter in vit_default.parameters():\n",
    "    parameter.requires_grad = False\n",
    "\n",
    "loss_fn = nn.CrossEntropyLoss()"
   ]
  },
  {
   "cell_type": "code",
   "execution_count": 3,
   "metadata": {},
   "outputs": [
    {
     "name": "stdout",
     "output_type": "stream",
     "text": [
      "import error: No module named 'triton'\n",
      "Files already downloaded and verified\n",
      "[INFO] Saving model to: model\\ViT-Quantized-bfloat16.pth\n"
     ]
    }
   ],
   "source": [
    "import torch\n",
    "from torchao.quantization.quant_api import quantize_, int8_dynamic_activation_int8_weight\n",
    "from torchao.utils import unwrap_tensor_subclass, TORCH_VERSION_AT_LEAST_2_5\n",
    "from torch.utils.benchmark import Timer\n",
    "\n",
    "vit_quantized = vit_default.to(torch.bfloat16)\n",
    "_, _, val_dl, _ = utils.create_loaders(\"data\", transform=pretrained_vit_transforms, batch_size=128, dtype=torch.bfloat16)\n",
    "utils.save_model(vit_quantized, \"model\", \"ViT-Quantized-bfloat16.pth\")"
   ]
  },
  {
   "cell_type": "code",
   "execution_count": 4,
   "metadata": {},
   "outputs": [
    {
     "name": "stdout",
     "output_type": "stream",
     "text": [
      "Validation loss: 0.15748306467563292\n",
      "Validation accuracy: 0.9490704113924051\n",
      "Number of images: 10112\n",
      "Peak Memory allocated: 695.35546875\n"
     ]
    }
   ],
   "source": [
    "trainer.evaluate(vit_quantized, val_dl, loss_fn, device)"
   ]
  },
  {
   "cell_type": "code",
   "execution_count": 5,
   "metadata": {},
   "outputs": [
    {
     "name": "stdout",
     "output_type": "stream",
     "text": [
      "Validation loss: 0.15748306467563292\n",
      "Validation accuracy: 0.9490704113924051\n",
      "Number of images: 10112\n",
      "Peak Memory allocated: 695.35546875\n",
      "Validation loss: 0.15748306467563292\n",
      "Validation accuracy: 0.9490704113924051\n",
      "Number of images: 10112\n",
      "Peak Memory allocated: 695.35546875\n",
      "Validation loss: 0.15748306467563292\n",
      "Validation accuracy: 0.9490704113924051\n",
      "Number of images: 10112\n",
      "Peak Memory allocated: 695.35546875\n",
      "Validation loss: 0.15748306467563292\n",
      "Validation accuracy: 0.9490704113924051\n",
      "Number of images: 10112\n",
      "Peak Memory allocated: 695.35546875\n",
      "Validation loss: 0.15748306467563292\n",
      "Validation accuracy: 0.9490704113924051\n",
      "Number of images: 10112\n",
      "Peak Memory allocated: 695.35546875\n",
      "Validation loss: 0.15748306467563292\n",
      "Validation accuracy: 0.9490704113924051\n",
      "Number of images: 10112\n",
      "Peak Memory allocated: 695.35546875\n",
      "Validation loss: 0.15748306467563292\n",
      "Validation accuracy: 0.9490704113924051\n",
      "Number of images: 10112\n",
      "Peak Memory allocated: 695.35546875\n",
      "Validation loss: 0.15748306467563292\n",
      "Validation accuracy: 0.9490704113924051\n",
      "Number of images: 10112\n",
      "Peak Memory allocated: 695.35546875\n",
      "Validation loss: 0.15748306467563292\n",
      "Validation accuracy: 0.9490704113924051\n",
      "Number of images: 10112\n",
      "Peak Memory allocated: 695.35546875\n",
      "Validation loss: 0.15748306467563292\n",
      "Validation accuracy: 0.9490704113924051\n",
      "Number of images: 10112\n",
      "Peak Memory allocated: 695.35546875\n",
      "Validation loss: 0.15748306467563292\n",
      "Validation accuracy: 0.9490704113924051\n",
      "Number of images: 10112\n",
      "Peak Memory allocated: 695.35546875\n",
      "Validation loss: 0.15748306467563292\n",
      "Validation accuracy: 0.9490704113924051\n",
      "Number of images: 10112\n",
      "Peak Memory allocated: 695.35546875\n",
      "Validation loss: 0.15748306467563292\n",
      "Validation accuracy: 0.9490704113924051\n",
      "Number of images: 10112\n",
      "Peak Memory allocated: 695.35546875\n",
      "Validation loss: 0.15748306467563292\n",
      "Validation accuracy: 0.9490704113924051\n",
      "Number of images: 10112\n",
      "Peak Memory allocated: 695.35546875\n",
      "Validation loss: 0.15748306467563292\n",
      "Validation accuracy: 0.9490704113924051\n",
      "Number of images: 10112\n",
      "Peak Memory allocated: 695.35546875\n",
      "Validation loss: 0.15748306467563292\n",
      "Validation accuracy: 0.9490704113924051\n",
      "Number of images: 10112\n",
      "Peak Memory allocated: 695.35546875\n",
      "Validation loss: 0.15748306467563292\n",
      "Validation accuracy: 0.9490704113924051\n",
      "Number of images: 10112\n",
      "Peak Memory allocated: 695.35546875\n",
      "Validation loss: 0.15748306467563292\n",
      "Validation accuracy: 0.9490704113924051\n",
      "Number of images: 10112\n",
      "Peak Memory allocated: 695.35546875\n",
      "Validation loss: 0.15748306467563292\n",
      "Validation accuracy: 0.9490704113924051\n",
      "Number of images: 10112\n",
      "Peak Memory allocated: 695.35546875\n",
      "Validation loss: 0.15748306467563292\n",
      "Validation accuracy: 0.9490704113924051\n",
      "Number of images: 10112\n",
      "Peak Memory allocated: 695.35546875\n",
      "50.6 s ± 1.46 s per loop (mean ± std. dev. of 20 runs, 1 loop each)\n"
     ]
    }
   ],
   "source": [
    "%timeit -r 20 -n 1 trainer.evaluate(vit_quantized, val_dl, loss_fn, device)"
   ]
  }
 ],
 "metadata": {
  "kernelspec": {
   "display_name": "Python 3",
   "language": "python",
   "name": "python3"
  },
  "language_info": {
   "codemirror_mode": {
    "name": "ipython",
    "version": 3
   },
   "file_extension": ".py",
   "mimetype": "text/x-python",
   "name": "python",
   "nbconvert_exporter": "python",
   "pygments_lexer": "ipython3",
   "version": "3.11.0"
  }
 },
 "nbformat": 4,
 "nbformat_minor": 2
}
